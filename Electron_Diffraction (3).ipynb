{
 "cells": [
  {
   "cell_type": "markdown",
   "metadata": {},
   "source": [
    "# Electron Diffraction Individual Analysis\n",
    "\n",
    "Use this template to carry out the analysis tasks for the Electron Diffraction experiment.  You may need to consult the documentation for different Python packages.  Also recommended: the [Whirlwind Tour of Python](https://jakevdp.github.io/WhirlwindTourOfPython/) and the [Python Data Science Handbook](https://jakevdp.github.io/PythonDataScienceHandbook/) both by Jake VanderPlas."
   ]
  },
  {
   "cell_type": "markdown",
   "metadata": {},
   "source": [
    "## First, import some packages\n",
    "\n",
    "This is a good idea at the beginning of your notebook to include the packages that you will need.  We will use the four shown below here.  A brief description:\n",
    "* `numpy` is the foundational package for Python numerical work. It extends and speeds up array operations beyond standard Python, and it includes almost all math functions that you would need for example `sqrt()` (square root) or `cos()` (cosine).  These would be written in code as `np.sqrt()` or `np.cos()`.\n",
    "* `scipy` is a huge collection of scientific data analysis functions, routines, physicical constants, etc.  This is the second most used package for scientific work.  In this notebook, we will only make use of one physical constant (the speed of light).  Documentation is at [SciPy.org](https://docs.scipy.org/doc/scipy/reference/) with the constants subpackage at https://docs.scipy.org/doc/scipy/reference/constants.html.\n",
    "* `uncertainties` is a very useful small package that simplifies uncertainty propagation and printing out of quantities with uncertainty.  As part of this notebook, you will calculate an uncertainty the \"hard way\" by explicit calculation and by using the Uncertainties package. Documentation is at https://pythonhosted.org/uncertainties/\n",
    "* `matplotlib` is *the* standard plotting package for scientific Python.  We will use a subset called `pyplot` which is modeled after the plotting functions used in MATLAB. The last line below, `%matplotlib inline`, simply forces the plots to appear within the notebook.\n",
    "* `pandas` is a large data science package.  It's main feature is a set of methods to create and manipulate \"Dataframes\", which is an enlargement of the idea of an array.  I playe well with NumPy and other packages.  We will use it mainly as a way to read files into data sets in an easy way."
   ]
  },
  {
   "cell_type": "markdown",
   "metadata": {},
   "source": [
    "## Graphite data analysis\n",
    "\n",
    "### Part 1 - Look at your data set\n",
    "\n",
    "It is always a good idea to make a plot of the raw data before trying to manipulate it.\n",
    "\n",
    "**Advice:** Enter the measurements you obtained from analyzing the diffraction images int a simple spreadsheet, with the first column being the accelerating voltage and the other columns being the ring/spot diameters.  Save the file as a '.csv'.  \n",
    "\n",
    "Then use the **Pandas** function `read_csv()` to pull the file into a Pandas Dataframe, like this:\n",
    "\n",
    "```\n",
    "gr_data = pd.read_csv('graphite_data.csv')\n",
    "```\n",
    "\n",
    "If the last line in the cell is the name of the dataframe, it will print a nice table.\n",
    "\n",
    "You may obtain the arrays for each column by using the column label, e.g., `gr_data['Voltage (kV)']` is the array of the first column."
   ]
  },
  {
   "cell_type": "code",
   "execution_count": 42,
   "metadata": {
    "scrolled": true
   },
   "outputs": [
    {
     "data": {
      "text/html": [
       "<div>\n",
       "<style scoped>\n",
       "    .dataframe tbody tr th:only-of-type {\n",
       "        vertical-align: middle;\n",
       "    }\n",
       "\n",
       "    .dataframe tbody tr th {\n",
       "        vertical-align: top;\n",
       "    }\n",
       "\n",
       "    .dataframe thead th {\n",
       "        text-align: right;\n",
       "    }\n",
       "</style>\n",
       "<table border=\"1\" class=\"dataframe\">\n",
       "  <thead>\n",
       "    <tr style=\"text-align: right;\">\n",
       "      <th></th>\n",
       "      <th>AnodeV (kV)</th>\n",
       "      <th>RAve_{10} (mm)</th>\n",
       "      <th>StDev_{10} (mm)</th>\n",
       "      <th>RAve_{11} (mm)</th>\n",
       "      <th>StDev_{11} (mm)</th>\n",
       "    </tr>\n",
       "  </thead>\n",
       "  <tbody>\n",
       "    <tr>\n",
       "      <th>0</th>\n",
       "      <td>4.432</td>\n",
       "      <td>14.851</td>\n",
       "      <td>0.475</td>\n",
       "      <td>25.725667</td>\n",
       "      <td>0.770</td>\n",
       "    </tr>\n",
       "    <tr>\n",
       "      <th>1</th>\n",
       "      <td>4.904</td>\n",
       "      <td>14.067</td>\n",
       "      <td>0.465</td>\n",
       "      <td>24.927333</td>\n",
       "      <td>0.416</td>\n",
       "    </tr>\n",
       "    <tr>\n",
       "      <th>2</th>\n",
       "      <td>5.382</td>\n",
       "      <td>13.341</td>\n",
       "      <td>0.497</td>\n",
       "      <td>23.309000</td>\n",
       "      <td>1.652</td>\n",
       "    </tr>\n",
       "    <tr>\n",
       "      <th>3</th>\n",
       "      <td>5.852</td>\n",
       "      <td>12.963</td>\n",
       "      <td>0.250</td>\n",
       "      <td>22.055333</td>\n",
       "      <td>0.315</td>\n",
       "    </tr>\n",
       "    <tr>\n",
       "      <th>4</th>\n",
       "      <td>6.323</td>\n",
       "      <td>12.448</td>\n",
       "      <td>0.473</td>\n",
       "      <td>21.480167</td>\n",
       "      <td>0.174</td>\n",
       "    </tr>\n",
       "    <tr>\n",
       "      <th>5</th>\n",
       "      <td>6.808</td>\n",
       "      <td>12.075</td>\n",
       "      <td>0.483</td>\n",
       "      <td>20.612167</td>\n",
       "      <td>0.284</td>\n",
       "    </tr>\n",
       "    <tr>\n",
       "      <th>6</th>\n",
       "      <td>7.295</td>\n",
       "      <td>11.442</td>\n",
       "      <td>0.121</td>\n",
       "      <td>19.692167</td>\n",
       "      <td>0.086</td>\n",
       "    </tr>\n",
       "    <tr>\n",
       "      <th>7</th>\n",
       "      <td>7.830</td>\n",
       "      <td>11.104</td>\n",
       "      <td>0.255</td>\n",
       "      <td>19.032167</td>\n",
       "      <td>0.333</td>\n",
       "    </tr>\n",
       "    <tr>\n",
       "      <th>8</th>\n",
       "      <td>8.314</td>\n",
       "      <td>10.905</td>\n",
       "      <td>0.457</td>\n",
       "      <td>18.386500</td>\n",
       "      <td>0.566</td>\n",
       "    </tr>\n",
       "    <tr>\n",
       "      <th>9</th>\n",
       "      <td>8.798</td>\n",
       "      <td>10.458</td>\n",
       "      <td>0.256</td>\n",
       "      <td>18.216667</td>\n",
       "      <td>0.207</td>\n",
       "    </tr>\n",
       "  </tbody>\n",
       "</table>\n",
       "</div>"
      ],
      "text/plain": [
       "   AnodeV (kV)  RAve_{10} (mm)  StDev_{10} (mm)  RAve_{11} (mm)  \\\n",
       "0        4.432          14.851            0.475       25.725667   \n",
       "1        4.904          14.067            0.465       24.927333   \n",
       "2        5.382          13.341            0.497       23.309000   \n",
       "3        5.852          12.963            0.250       22.055333   \n",
       "4        6.323          12.448            0.473       21.480167   \n",
       "5        6.808          12.075            0.483       20.612167   \n",
       "6        7.295          11.442            0.121       19.692167   \n",
       "7        7.830          11.104            0.255       19.032167   \n",
       "8        8.314          10.905            0.457       18.386500   \n",
       "9        8.798          10.458            0.256       18.216667   \n",
       "\n",
       "   StDev_{11} (mm)  \n",
       "0            0.770  \n",
       "1            0.416  \n",
       "2            1.652  \n",
       "3            0.315  \n",
       "4            0.174  \n",
       "5            0.284  \n",
       "6            0.086  \n",
       "7            0.333  \n",
       "8            0.566  \n",
       "9            0.207  "
      ]
     },
     "execution_count": 42,
     "metadata": {},
     "output_type": "execute_result"
    }
   ],
   "source": [
    "import numpy as np\n",
    "import scipy.constants as const\n",
    "import uncertainties as unc\n",
    "import matplotlib.pyplot as plt\n",
    "import pandas as pd\n",
    "%matplotlib inline\n",
    "\n",
    "gr_data = pd.read_csv('graphite_data.csv')\n",
    "gr_data"
   ]
  },
  {
   "cell_type": "markdown",
   "metadata": {},
   "source": [
    "#### Plot the data\n",
    "\n",
    "Below, I'll show how, using the labels I chose for my own data file.  Study the commands, change them, and see what happens.  Hint: study the sections in the [Python Data Science Handbook](https://jakevdp.github.io/PythonDataScienceHandbook/) on Matplotlib. \n",
    "\n",
    "After you make the plot, look to make sure your data set does not have any weird points. This is a good way to catch bad data points."
   ]
  },
  {
   "cell_type": "code",
   "execution_count": 43,
   "metadata": {},
   "outputs": [
    {
     "data": {
      "image/png": "[encoded data removed]",
      "text/plain": [
       "<Figure size 648x468 with 1 Axes>"
      ]
     },
     "metadata": {
      "needs_background": "light"
     },
     "output_type": "display_data"
    }
   ],
   "source": [
    "plt.figure(figsize=(9,6.5))\n",
    "plt.grid()\n",
    "plt.title('Graphite Electron Diffraction Data')\n",
    "plt.ylabel(r'Ring diameter $D$ (mm)')\n",
    "plt.xlabel(r'Acceleration voltage $V$ (kV)')\n",
    "plt.plot(gr_data['AnodeV (kV)'],gr_data['RAve_{10} (mm)'],'ob',label='{10} Reflections')\n",
    "plt.plot(gr_data['AnodeV (kV)'],gr_data['RAve_{11} (mm)'],'or',label='{11} Reflections')\n",
    "plt.legend();"
   ]
  },
  {
   "cell_type": "markdown",
   "metadata": {},
   "source": [
    "### Part 2 - Transform (linearize) the data \n",
    "\n",
    "#### Find $\\sin\\theta$\n",
    "\n",
    "First, you need to change the diameter measurements $D$ into $\\sin\\theta$.  Consider the geometry of the scattering and the fact that you are measuring a diameter. (It is easy to be off by factors of 2.) You will also need the distance $L$ between the target and the screen. Be careful of units! \n",
    "\n",
    "Create new arrays that contain the transformed data.  "
   ]
  },
  {
   "cell_type": "code",
   "execution_count": 44,
   "metadata": {},
   "outputs": [
    {
     "data": {
      "text/html": [
       "<div>\n",
       "<style scoped>\n",
       "    .dataframe tbody tr th:only-of-type {\n",
       "        vertical-align: middle;\n",
       "    }\n",
       "\n",
       "    .dataframe tbody tr th {\n",
       "        vertical-align: top;\n",
       "    }\n",
       "\n",
       "    .dataframe thead th {\n",
       "        text-align: right;\n",
       "    }\n",
       "</style>\n",
       "<table border=\"1\" class=\"dataframe\">\n",
       "  <thead>\n",
       "    <tr style=\"text-align: right;\">\n",
       "      <th></th>\n",
       "      <th>Voltage</th>\n",
       "      <th>Sin(Theta) One</th>\n",
       "      <th>Sin(Theta) Two</th>\n",
       "    </tr>\n",
       "  </thead>\n",
       "  <tbody>\n",
       "    <tr>\n",
       "      <th>0</th>\n",
       "      <td>4.432</td>\n",
       "      <td>0.041012</td>\n",
       "      <td>0.070688</td>\n",
       "    </tr>\n",
       "    <tr>\n",
       "      <th>1</th>\n",
       "      <td>4.904</td>\n",
       "      <td>0.038857</td>\n",
       "      <td>0.068525</td>\n",
       "    </tr>\n",
       "    <tr>\n",
       "      <th>2</th>\n",
       "      <td>5.382</td>\n",
       "      <td>0.036860</td>\n",
       "      <td>0.064133</td>\n",
       "    </tr>\n",
       "    <tr>\n",
       "      <th>3</th>\n",
       "      <td>5.852</td>\n",
       "      <td>0.035820</td>\n",
       "      <td>0.060723</td>\n",
       "    </tr>\n",
       "    <tr>\n",
       "      <th>4</th>\n",
       "      <td>6.323</td>\n",
       "      <td>0.034402</td>\n",
       "      <td>0.059156</td>\n",
       "    </tr>\n",
       "    <tr>\n",
       "      <th>5</th>\n",
       "      <td>6.808</td>\n",
       "      <td>0.033374</td>\n",
       "      <td>0.056789</td>\n",
       "    </tr>\n",
       "    <tr>\n",
       "      <th>6</th>\n",
       "      <td>7.295</td>\n",
       "      <td>0.031630</td>\n",
       "      <td>0.054278</td>\n",
       "    </tr>\n",
       "    <tr>\n",
       "      <th>7</th>\n",
       "      <td>7.830</td>\n",
       "      <td>0.030698</td>\n",
       "      <td>0.052474</td>\n",
       "    </tr>\n",
       "    <tr>\n",
       "      <th>8</th>\n",
       "      <td>8.314</td>\n",
       "      <td>0.030150</td>\n",
       "      <td>0.050707</td>\n",
       "    </tr>\n",
       "    <tr>\n",
       "      <th>9</th>\n",
       "      <td>8.798</td>\n",
       "      <td>0.028917</td>\n",
       "      <td>0.050243</td>\n",
       "    </tr>\n",
       "  </tbody>\n",
       "</table>\n",
       "</div>"
      ],
      "text/plain": [
       "   Voltage  Sin(Theta) One  Sin(Theta) Two\n",
       "0    4.432        0.041012        0.070688\n",
       "1    4.904        0.038857        0.068525\n",
       "2    5.382        0.036860        0.064133\n",
       "3    5.852        0.035820        0.060723\n",
       "4    6.323        0.034402        0.059156\n",
       "5    6.808        0.033374        0.056789\n",
       "6    7.295        0.031630        0.054278\n",
       "7    7.830        0.030698        0.052474\n",
       "8    8.314        0.030150        0.050707\n",
       "9    8.798        0.028917        0.050243"
      ]
     },
     "execution_count": 44,
     "metadata": {},
     "output_type": "execute_result"
    }
   ],
   "source": [
    "# SIN(THETA) data\n",
    "L = 18.06 * 10\n",
    "sin_data = pd.DataFrame(data = {'Voltage': gr_data['AnodeV (kV)'], \n",
    "                                'Sin(Theta) One':np.sin(.5 * np.arctan(gr_data['RAve_{10} (mm)']/L)),\n",
    "                                'Sin(Theta) Two':np.sin(.5 * np.arctan(gr_data['RAve_{11} (mm)']/L))})\n",
    "sin_data"
   ]
  },
  {
   "cell_type": "markdown",
   "metadata": {},
   "source": [
    "#### Find a function of $V$...\n",
    "\n",
    "... that linearizes the data relationship:\n",
    "\n",
    "Combine the DeBroglie relationship, the momentum-energy relationship and the energy-voltage relationship to create a function that predicts $\\sin\\theta$ as a function of $V$.  Then recast $V$ in order to get a new array that when plotted against $\\sin\\theta$ should produce a straight line.  The slope of the line should be something you can compare against a predicted value."
   ]
  },
  {
   "cell_type": "code",
   "execution_count": 45,
   "metadata": {},
   "outputs": [
    {
     "data": {
      "text/html": [
       "<div>\n",
       "<style scoped>\n",
       "    .dataframe tbody tr th:only-of-type {\n",
       "        vertical-align: middle;\n",
       "    }\n",
       "\n",
       "    .dataframe tbody tr th {\n",
       "        vertical-align: top;\n",
       "    }\n",
       "\n",
       "    .dataframe thead th {\n",
       "        text-align: right;\n",
       "    }\n",
       "</style>\n",
       "<table border=\"1\" class=\"dataframe\">\n",
       "  <thead>\n",
       "    <tr style=\"text-align: right;\">\n",
       "      <th></th>\n",
       "      <th>Voltage kV</th>\n",
       "      <th>Wavelength NM</th>\n",
       "    </tr>\n",
       "  </thead>\n",
       "  <tbody>\n",
       "    <tr>\n",
       "      <th>0</th>\n",
       "      <td>4.432</td>\n",
       "      <td>0.184245</td>\n",
       "    </tr>\n",
       "    <tr>\n",
       "      <th>1</th>\n",
       "      <td>4.904</td>\n",
       "      <td>0.175154</td>\n",
       "    </tr>\n",
       "    <tr>\n",
       "      <th>2</th>\n",
       "      <td>5.382</td>\n",
       "      <td>0.167195</td>\n",
       "    </tr>\n",
       "    <tr>\n",
       "      <th>3</th>\n",
       "      <td>5.852</td>\n",
       "      <td>0.160341</td>\n",
       "    </tr>\n",
       "    <tr>\n",
       "      <th>4</th>\n",
       "      <td>6.323</td>\n",
       "      <td>0.154253</td>\n",
       "    </tr>\n",
       "    <tr>\n",
       "      <th>5</th>\n",
       "      <td>6.808</td>\n",
       "      <td>0.148657</td>\n",
       "    </tr>\n",
       "    <tr>\n",
       "      <th>6</th>\n",
       "      <td>7.295</td>\n",
       "      <td>0.143610</td>\n",
       "    </tr>\n",
       "    <tr>\n",
       "      <th>7</th>\n",
       "      <td>7.830</td>\n",
       "      <td>0.138617</td>\n",
       "    </tr>\n",
       "    <tr>\n",
       "      <th>8</th>\n",
       "      <td>8.314</td>\n",
       "      <td>0.134521</td>\n",
       "    </tr>\n",
       "    <tr>\n",
       "      <th>9</th>\n",
       "      <td>8.798</td>\n",
       "      <td>0.130769</td>\n",
       "    </tr>\n",
       "  </tbody>\n",
       "</table>\n",
       "</div>"
      ],
      "text/plain": [
       "   Voltage kV  Wavelength NM\n",
       "0       4.432       0.184245\n",
       "1       4.904       0.175154\n",
       "2       5.382       0.167195\n",
       "3       5.852       0.160341\n",
       "4       6.323       0.154253\n",
       "5       6.808       0.148657\n",
       "6       7.295       0.143610\n",
       "7       7.830       0.138617\n",
       "8       8.314       0.134521\n",
       "9       8.798       0.130769"
      ]
     },
     "execution_count": 45,
     "metadata": {},
     "output_type": "execute_result"
    }
   ],
   "source": [
    "# PREDICTED VALUE lambda(V)\n",
    "# can be simp to Lambda (nm) = sqrt(150/V) * 1000\n",
    "mc_2 = .511  # (keV)\n",
    "hc = 1.240           # (eV*nm)\n",
    "e = 1.602 * 10 **-19      # (C)\n",
    "\n",
    "wavelengths_Predicted =  pd.DataFrame(data = {'Voltage kV': gr_data['AnodeV (kV)'],'Wavelength NM': 10 * hc/(np.sqrt(2*mc_2*(gr_data['AnodeV (kV)']*1000)))})\n",
    "wavelengths_Predicted"
   ]
  },
  {
   "cell_type": "code",
   "execution_count": 46,
   "metadata": {},
   "outputs": [
    {
     "data": {
      "text/html": [
       "<div>\n",
       "<style scoped>\n",
       "    .dataframe tbody tr th:only-of-type {\n",
       "        vertical-align: middle;\n",
       "    }\n",
       "\n",
       "    .dataframe tbody tr th {\n",
       "        vertical-align: top;\n",
       "    }\n",
       "\n",
       "    .dataframe thead th {\n",
       "        text-align: right;\n",
       "    }\n",
       "</style>\n",
       "<table border=\"1\" class=\"dataframe\">\n",
       "  <thead>\n",
       "    <tr style=\"text-align: right;\">\n",
       "      <th></th>\n",
       "      <th>Voltage kV</th>\n",
       "      <th>Wavelength {10} NM</th>\n",
       "      <th>Wavelength {11} NM</th>\n",
       "    </tr>\n",
       "  </thead>\n",
       "  <tbody>\n",
       "    <tr>\n",
       "      <th>0</th>\n",
       "      <td>4.432</td>\n",
       "      <td>0.174745</td>\n",
       "      <td>0.173892</td>\n",
       "    </tr>\n",
       "    <tr>\n",
       "      <th>1</th>\n",
       "      <td>4.904</td>\n",
       "      <td>0.165563</td>\n",
       "      <td>0.168573</td>\n",
       "    </tr>\n",
       "    <tr>\n",
       "      <th>2</th>\n",
       "      <td>5.382</td>\n",
       "      <td>0.157054</td>\n",
       "      <td>0.157768</td>\n",
       "    </tr>\n",
       "    <tr>\n",
       "      <th>3</th>\n",
       "      <td>5.852</td>\n",
       "      <td>0.152622</td>\n",
       "      <td>0.149379</td>\n",
       "    </tr>\n",
       "    <tr>\n",
       "      <th>4</th>\n",
       "      <td>6.323</td>\n",
       "      <td>0.146580</td>\n",
       "      <td>0.145524</td>\n",
       "    </tr>\n",
       "    <tr>\n",
       "      <th>5</th>\n",
       "      <td>6.808</td>\n",
       "      <td>0.142203</td>\n",
       "      <td>0.139702</td>\n",
       "    </tr>\n",
       "    <tr>\n",
       "      <th>6</th>\n",
       "      <td>7.295</td>\n",
       "      <td>0.134771</td>\n",
       "      <td>0.133523</td>\n",
       "    </tr>\n",
       "    <tr>\n",
       "      <th>7</th>\n",
       "      <td>7.830</td>\n",
       "      <td>0.130802</td>\n",
       "      <td>0.129085</td>\n",
       "    </tr>\n",
       "    <tr>\n",
       "      <th>8</th>\n",
       "      <td>8.314</td>\n",
       "      <td>0.128464</td>\n",
       "      <td>0.124740</td>\n",
       "    </tr>\n",
       "    <tr>\n",
       "      <th>9</th>\n",
       "      <td>8.798</td>\n",
       "      <td>0.123212</td>\n",
       "      <td>0.123597</td>\n",
       "    </tr>\n",
       "  </tbody>\n",
       "</table>\n",
       "</div>"
      ],
      "text/plain": [
       "   Voltage kV  Wavelength {10} NM  Wavelength {11} NM\n",
       "0       4.432            0.174745            0.173892\n",
       "1       4.904            0.165563            0.168573\n",
       "2       5.382            0.157054            0.157768\n",
       "3       5.852            0.152622            0.149379\n",
       "4       6.323            0.146580            0.145524\n",
       "5       6.808            0.142203            0.139702\n",
       "6       7.295            0.134771            0.133523\n",
       "7       7.830            0.130802            0.129085\n",
       "8       8.314            0.128464            0.124740\n",
       "9       8.798            0.123212            0.123597"
      ]
     },
     "execution_count": 46,
     "metadata": {},
     "output_type": "execute_result"
    }
   ],
   "source": [
    "# Tested Value \n",
    "a = 2.46 \n",
    "scattering = [1,np.sqrt(3)]\n",
    "wavelengths_Tested = pd.DataFrame(data = {'Voltage kV': gr_data['AnodeV (kV)'],\n",
    "                                          'Wavelength {10} NM':(np.sqrt(3)*a* sin_data['Sin(Theta) One'])/scattering[0],\n",
    "                                          'Wavelength {11} NM':(np.sqrt(3)*a* sin_data['Sin(Theta) Two'])/scattering[1]})\n",
    "wavelengths_Tested"
   ]
  },
  {
   "cell_type": "markdown",
   "metadata": {},
   "source": [
    "#### Plot the transformed data\n",
    "\n",
    "Check your calculation: make a reasonably big plot that shows the \"linearized\" data set.  If you succeded, it should look like a line."
   ]
  },
  {
   "cell_type": "code",
   "execution_count": 47,
   "metadata": {},
   "outputs": [
    {
     "data": {
      "image/png": "[encoded data removed]",
      "text/plain": [
       "<Figure size 648x468 with 1 Axes>"
      ]
     },
     "metadata": {
      "needs_background": "light"
     },
     "output_type": "display_data"
    }
   ],
   "source": [
    "adj_volt = pd.DataFrame(data = {'adj_voltage': 1/np.sqrt(gr_data['AnodeV (kV)'])})\n",
    "plt.figure(figsize=(9,6.5))\n",
    "plt.grid()\n",
    "plt.title('Wavelength vs. 1/sqrt(V)')\n",
    "plt.ylabel(r'Wavelength')\n",
    "plt.xlabel(r'1/sqrt(V)')\n",
    "plt.plot(adj_volt, wavelengths_Tested['Wavelength {10} NM'],'ob',label='{10} wavelength')\n",
    "plt.plot(adj_volt, wavelengths_Tested['Wavelength {11} NM'],'or',label='{11} wavelength')\n",
    "plt.plot(adj_volt, wavelengths_Predicted['Wavelength NM'],'og',label='Theoretical')\n",
    "plt.legend();"
   ]
  },
  {
   "cell_type": "markdown",
   "metadata": {},
   "source": [
    "### Part 3 - Fit the linearized data\n",
    "\n",
    "To fit the data set to a line, make use of the **lmfit** package. It is a useful add-on to the SciPy fitting functions.  This package simplifies fitting data to a variety of standard functions.  See the [Lmfit Documentation](https://lmfit.github.io/lmfit-py/index.html) for a full discussion.  The package is quite powerful, but for basic fitting with common functions, it is very easy to use.  \n",
    "\n",
    "#### Example: Fitting a line\n",
    "\n",
    "The example below shows how to use the package to fit data to a line, obtain the fit parameters along with uncertainties, and then plot the data and fit. Execute the cell and study how it works.\n",
    "(Note: the data come from a calibration problem in physics 331)\n"
   ]
  },
  {
   "cell_type": "code",
   "execution_count": 48,
   "metadata": {},
   "outputs": [
    {
     "name": "stdout",
     "output_type": "stream",
     "text": [
      "\n",
      "Slope =  0.3878789731957094 +/- None\n",
      "\n",
      "Slope =  0.36674521266920446 +/- 0.007219701026742559\n",
      "\n",
      "Slope =  0.3856861379721039 +/- 0.010514646208952283\n"
     ]
    }
   ],
   "source": [
    "from lmfit.models import LinearModel\n",
    "line = LinearModel()\n",
    "\n",
    "param_guess1 = line.guess(wavelengths_Predicted['Wavelength NM'], x = adj_volt['adj_voltage'])\n",
    "line_fit1 = line.fit(wavelengths_Predicted['Wavelength NM'], param_guess1, x = adj_volt['adj_voltage'])\n",
    "#print(line_fit1.fit_report())\n",
    "\n",
    "param_guess2 = line.guess(wavelengths_Tested['Wavelength {10} NM'], x = adj_volt['adj_voltage'])\n",
    "line_fit2 = line.fit(wavelengths_Tested['Wavelength {10} NM'], param_guess2, x = adj_volt['adj_voltage'])\n",
    "#print(line_fit2.fit_report())\n",
    "\n",
    "param_guess3 = line.guess(wavelengths_Tested['Wavelength {11} NM'], x = adj_volt['adj_voltage'])\n",
    "line_fit3 = line.fit(wavelengths_Tested['Wavelength {11} NM'], param_guess3, x= adj_volt['adj_voltage'])\n",
    "#print(line_fit3.fit_report())\n",
    "\n",
    "print('\\nSlope = ',line_fit1.params['slope'].value,'+/-',line_fit1.params['slope'].stderr)\n",
    "print('\\nSlope = ',line_fit2.params['slope'].value,'+/-',line_fit2.params['slope'].stderr)\n",
    "print('\\nSlope = ',line_fit3.params['slope'].value,'+/-',line_fit3.params['slope'].stderr)\n",
    "#line_fit1.plot();\n",
    "#line_fit2.plot();\n",
    "#line_fit3.plot();\n",
    "\n"
   ]
  },
  {
   "cell_type": "markdown",
   "metadata": {},
   "source": [
    "### Fit the line to your data\n",
    "\n",
    "Repeat the above calculation by feeding in the appropriate arrays from your linearization transformations.  Obtain the slope.  What are the units??\n",
    "\n",
    "Note: you only need to redo the following instructions, replacing the `wavelength` and `position` arrays:\n",
    "\n",
    "```\n",
    "param_guess = line.guess(wavelength, x=position)\n",
    "\n",
    "line_fit = line.fit(wavelength, param_guess, x=position)\n",
    "\n",
    "print(line_fit.fit_report())\n",
    "```\n",
    "\n",
    "Run the fit for both the inner ring data ({10} refections) and the next ring data ({11} reflections). You should have two different slopes that can be reduced to give the lattice constant. "
   ]
  },
  {
   "cell_type": "code",
   "execution_count": 49,
   "metadata": {},
   "outputs": [],
   "source": [
    "fit_x_values1 = np.linspace(0,np.max(adj_volt['adj_voltage']),20)\n",
    "line_fit1 = line_fit1.eval(line_fit1.params,x = fit_x_values1)\n",
    "fit_x_values2 = np.linspace(0,np.max(adj_volt['adj_voltage']),20)\n",
    "line_fit2 = line_fit2.eval(line_fit2.params,x = fit_x_values2)\n",
    "fit_x_values3 = np.linspace(0,np.max(adj_volt['adj_voltage']),20)\n",
    "line_fit3 = line_fit3.eval(line_fit3.params,x = fit_x_values3)"
   ]
  },
  {
   "cell_type": "markdown",
   "metadata": {},
   "source": [
    "### Plot the linefits against the data\n",
    "\n",
    "Use the `eval()` method to obtain a fitline, for example,\n",
    "\n",
    "```\n",
    "fit_x_values = np.linspace(0,np.max(inv_V),20)\n",
    "fitline_10 = line_fit_10.eval(line_fit_10.params,x=fit_x_values)\n",
    "```\n",
    "\n",
    "Then plot the line(s) on your data plot made above."
   ]
  },
  {
   "cell_type": "code",
   "execution_count": 50,
   "metadata": {},
   "outputs": [
    {
     "data": {
      "image/png": "[encoded data removed]",
      "text/plain": [
       "<Figure size 648x468 with 1 Axes>"
      ]
     },
     "metadata": {
      "needs_background": "light"
     },
     "output_type": "display_data"
    }
   ],
   "source": [
    "plt.figure(figsize=(9,6.5))\n",
    "plt.grid()\n",
    "plt.title('Wavelength vs. 1/sqrt(V)')\n",
    "plt.ylabel(r'Wavelength')\n",
    "plt.xlabel(r'1/sqrt(V)')\n",
    "plt.plot(fit_x_values1, line_fit1,'-b',label='{10} wavelength')\n",
    "plt.plot(fit_x_values2, line_fit2,'-r',label='{11} wavelength')\n",
    "plt.plot(fit_x_values3, line_fit3,'-g',label='Theoretical')\n",
    "plt.legend();"
   ]
  },
  {
   "cell_type": "markdown",
   "metadata": {},
   "source": [
    "### Part 4 - Evaluate the fit constants\n",
    "\n",
    "The fit constants (slope) should be related to the physical constants in the DeBroglie relation and electron momentum-energy relation, along with the graphite lattice constant $a$.  Use the SciPy constants (or other Python libraries of cosntants) to calculate the expected value of the slope(s). Compare to the measured one(s) by calculating the lattice constant from the fit(s).\n",
    "\n",
    "Then from your own measurements and the known value of $a$ (2.46 angstrom), calculate a conversion constant that will allow you to find the wavelength $\\lambda$ as a function of the voltage $V$, i.e., a function $\\lambda(V)$.  (Note `lambda` is a reserved word in Python; you cannot use it as a variable or function name.)"
   ]
  },
  {
   "cell_type": "code",
   "execution_count": 51,
   "metadata": {},
   "outputs": [
    {
     "data": {
      "text/html": [
       "<div>\n",
       "<style scoped>\n",
       "    .dataframe tbody tr th:only-of-type {\n",
       "        vertical-align: middle;\n",
       "    }\n",
       "\n",
       "    .dataframe tbody tr th {\n",
       "        vertical-align: top;\n",
       "    }\n",
       "\n",
       "    .dataframe thead th {\n",
       "        text-align: right;\n",
       "    }\n",
       "</style>\n",
       "<table border=\"1\" class=\"dataframe\">\n",
       "  <thead>\n",
       "    <tr style=\"text-align: right;\">\n",
       "      <th></th>\n",
       "      <th>Theoretical</th>\n",
       "      <th>Tested {01}</th>\n",
       "      <th>Tested {11}</th>\n",
       "    </tr>\n",
       "  </thead>\n",
       "  <tbody>\n",
       "    <tr>\n",
       "      <th>0</th>\n",
       "      <td>150.450098</td>\n",
       "      <td>134.502051</td>\n",
       "      <td>148.753797</td>\n",
       "    </tr>\n",
       "  </tbody>\n",
       "</table>\n",
       "</div>"
      ],
      "text/plain": [
       "   Theoretical  Tested {01}  Tested {11}\n",
       "0   150.450098   134.502051   148.753797"
      ]
     },
     "execution_count": 51,
     "metadata": {},
     "output_type": "execute_result"
    }
   ],
   "source": [
    "conversion_constants = pd.DataFrame(data = {'Theoretical': [(.3878789731957094**2)*1000],\n",
    "                                            'Tested {01}': [(.36674521266920446**2)*1000],\n",
    "                                            'Tested {11}': [(.3856861379721039**2)*1000]})\n",
    "conversion_constants"
   ]
  },
  {
   "cell_type": "code",
   "execution_count": 52,
   "metadata": {},
   "outputs": [
    {
     "name": "stdout",
     "output_type": "stream",
     "text": [
      "\n",
      "Slope =  4.492448896341586 +/- 0.08843863388649688\n",
      "\n",
      "Slope =  2.4593635176619273 +/- 0.0670476384900546\n"
     ]
    },
    {
     "data": {
      "text/html": [
       "<div>\n",
       "<style scoped>\n",
       "    .dataframe tbody tr th:only-of-type {\n",
       "        vertical-align: middle;\n",
       "    }\n",
       "\n",
       "    .dataframe tbody tr th {\n",
       "        vertical-align: top;\n",
       "    }\n",
       "\n",
       "    .dataframe thead th {\n",
       "        text-align: right;\n",
       "    }\n",
       "</style>\n",
       "<table border=\"1\" class=\"dataframe\">\n",
       "  <thead>\n",
       "    <tr style=\"text-align: right;\">\n",
       "      <th></th>\n",
       "      <th>theoretical</th>\n",
       "      <th>{10} lattice constant</th>\n",
       "      <th>{11} lattice constant</th>\n",
       "    </tr>\n",
       "  </thead>\n",
       "  <tbody>\n",
       "    <tr>\n",
       "      <th>0</th>\n",
       "      <td>2.46</td>\n",
       "      <td>2.593717</td>\n",
       "      <td>2.459364</td>\n",
       "    </tr>\n",
       "  </tbody>\n",
       "</table>\n",
       "</div>"
      ],
      "text/plain": [
       "   theoretical  {10} lattice constant  {11} lattice constant\n",
       "0         2.46               2.593717               2.459364"
      ]
     },
     "execution_count": 52,
     "metadata": {},
     "output_type": "execute_result"
    }
   ],
   "source": [
    "from lmfit.models import LinearModel\n",
    "line = LinearModel()\n",
    "sins = sin_data.values.tolist()\n",
    "for j in sins: \n",
    "    del j[0]\n",
    "sins = np.array(sins).T\n",
    "param_guess1 = line.guess(wavelengths_Predicted['Wavelength NM'], x = sins[0])\n",
    "line_fit1 = line.fit(wavelengths_Predicted['Wavelength NM'], param_guess1, x = sins[0])\n",
    "param_guess2 = line.guess(wavelengths_Predicted['Wavelength NM'], x = sins[1])\n",
    "line_fit2 = line.fit(wavelengths_Predicted['Wavelength NM'], param_guess2, x = sins[1])\n",
    "print('\\nSlope = ',line_fit1.params['slope'].value,'+/-',line_fit1.params['slope'].stderr)\n",
    "print('\\nSlope = ',line_fit2.params['slope'].value,'+/-',line_fit2.params['slope'].stderr)\n",
    "\n",
    "lattice_constants = pd.DataFrame(data = {'theoretical':[2.460],'{10} lattice constant': [4.492448896341586/np.sqrt(3)],'{11} lattice constant': [2.4593635176619273]})\n",
    "lattice_constants"
   ]
  },
  {
   "cell_type": "markdown",
   "metadata": {},
   "source": [
    "## Aluminum data analysis\n",
    "\n",
    "### Part 1 - Look at your data set\n",
    "\n",
    "As above, first import your data and plot it to make sure it is OK.\n",
    "\n"
   ]
  },
  {
   "cell_type": "code",
   "execution_count": 53,
   "metadata": {},
   "outputs": [
    {
     "data": {
      "text/html": [
       "<div>\n",
       "<style scoped>\n",
       "    .dataframe tbody tr th:only-of-type {\n",
       "        vertical-align: middle;\n",
       "    }\n",
       "\n",
       "    .dataframe tbody tr th {\n",
       "        vertical-align: top;\n",
       "    }\n",
       "\n",
       "    .dataframe thead th {\n",
       "        text-align: right;\n",
       "    }\n",
       "</style>\n",
       "<table border=\"1\" class=\"dataframe\">\n",
       "  <thead>\n",
       "    <tr style=\"text-align: right;\">\n",
       "      <th></th>\n",
       "      <th>AnodeV (kV)</th>\n",
       "      <th>R1</th>\n",
       "      <th>R2</th>\n",
       "      <th>R3</th>\n",
       "      <th>R4</th>\n",
       "      <th>R5</th>\n",
       "    </tr>\n",
       "  </thead>\n",
       "  <tbody>\n",
       "    <tr>\n",
       "      <th>0</th>\n",
       "      <td>4.750</td>\n",
       "      <td>12.828</td>\n",
       "      <td>14.808</td>\n",
       "      <td>21.140</td>\n",
       "      <td>23.826</td>\n",
       "      <td>33.401667</td>\n",
       "    </tr>\n",
       "    <tr>\n",
       "      <th>1</th>\n",
       "      <td>5.847</td>\n",
       "      <td>11.675</td>\n",
       "      <td>13.487</td>\n",
       "      <td>18.965</td>\n",
       "      <td>21.360</td>\n",
       "      <td>30.187833</td>\n",
       "    </tr>\n",
       "    <tr>\n",
       "      <th>2</th>\n",
       "      <td>6.770</td>\n",
       "      <td>10.780</td>\n",
       "      <td>12.740</td>\n",
       "      <td>17.944</td>\n",
       "      <td>19.922</td>\n",
       "      <td>27.908333</td>\n",
       "    </tr>\n",
       "    <tr>\n",
       "      <th>3</th>\n",
       "      <td>7.828</td>\n",
       "      <td>10.056</td>\n",
       "      <td>11.757</td>\n",
       "      <td>16.637</td>\n",
       "      <td>18.447</td>\n",
       "      <td>26.033167</td>\n",
       "    </tr>\n",
       "    <tr>\n",
       "      <th>4</th>\n",
       "      <td>8.785</td>\n",
       "      <td>9.646</td>\n",
       "      <td>11.128</td>\n",
       "      <td>15.620</td>\n",
       "      <td>17.519</td>\n",
       "      <td>24.523000</td>\n",
       "    </tr>\n",
       "  </tbody>\n",
       "</table>\n",
       "</div>"
      ],
      "text/plain": [
       "   AnodeV (kV)      R1      R2      R3      R4         R5\n",
       "0        4.750  12.828  14.808  21.140  23.826  33.401667\n",
       "1        5.847  11.675  13.487  18.965  21.360  30.187833\n",
       "2        6.770  10.780  12.740  17.944  19.922  27.908333\n",
       "3        7.828  10.056  11.757  16.637  18.447  26.033167\n",
       "4        8.785   9.646  11.128  15.620  17.519  24.523000"
      ]
     },
     "execution_count": 53,
     "metadata": {},
     "output_type": "execute_result"
    }
   ],
   "source": [
    "al_data = pd.read_csv('aluminum_data.csv')\n",
    "al_data"
   ]
  },
  {
   "cell_type": "markdown",
   "metadata": {},
   "source": [
    "#### Plot some of it\n",
    "Plot a few ring diameters as a function of voltage.  The data should resemble what you got with graphite."
   ]
  },
  {
   "cell_type": "code",
   "execution_count": 54,
   "metadata": {},
   "outputs": [
    {
     "data": {
      "image/png": "[encoded data removed]",
      "text/plain": [
       "<Figure size 648x468 with 1 Axes>"
      ]
     },
     "metadata": {
      "needs_background": "light"
     },
     "output_type": "display_data"
    }
   ],
   "source": [
    "plt.figure(figsize=(9,6.5)) \n",
    "plt.grid()\n",
    "plt.title('Aluminum Electron Diffraction Data')\n",
    "plt.ylabel(r'Ring diameter $D$ (mm)')\n",
    "plt.xlabel(r'Acceleration voltage $V$ (kV)')\n",
    "plt.plot(al_data['AnodeV (kV)'],al_data['R1'],'ob',label='R1')\n",
    "plt.plot(al_data['AnodeV (kV)'],al_data['R2'],'or',label='R2')\n",
    "plt.plot(al_data['AnodeV (kV)'],al_data['R3'],'og',label='R3')\n",
    "plt.plot(al_data['AnodeV (kV)'],al_data['R4'],'or',label='R4')\n",
    "plt.plot(al_data['AnodeV (kV)'],al_data['R5'],'or',label='R5')\n",
    "plt.legend();"
   ]
  },
  {
   "cell_type": "markdown",
   "metadata": {},
   "source": [
    "### Part 2 - Convert $D$ to $\\sin\\theta$\n",
    "\n",
    "Repeat what you did with graphite to get the data into the $\\sin\\theta$ form.  Do this for all voltages.  You should have 5 separate $\\sin\\theta$ arrays."
   ]
  },
  {
   "cell_type": "code",
   "execution_count": 55,
   "metadata": {},
   "outputs": [
    {
     "data": {
      "text/html": [
       "<div>\n",
       "<style scoped>\n",
       "    .dataframe tbody tr th:only-of-type {\n",
       "        vertical-align: middle;\n",
       "    }\n",
       "\n",
       "    .dataframe tbody tr th {\n",
       "        vertical-align: top;\n",
       "    }\n",
       "\n",
       "    .dataframe thead th {\n",
       "        text-align: right;\n",
       "    }\n",
       "</style>\n",
       "<table border=\"1\" class=\"dataframe\">\n",
       "  <thead>\n",
       "    <tr style=\"text-align: right;\">\n",
       "      <th></th>\n",
       "      <th>Voltage</th>\n",
       "      <th>Sin(Theta) One</th>\n",
       "      <th>Sin(Theta) Two</th>\n",
       "      <th>Sin(Theta) Three</th>\n",
       "      <th>Sin(Theta) Four</th>\n",
       "      <th>Sin(Theta) Five</th>\n",
       "    </tr>\n",
       "  </thead>\n",
       "  <tbody>\n",
       "    <tr>\n",
       "      <th>0</th>\n",
       "      <td>4.750</td>\n",
       "      <td>0.035448</td>\n",
       "      <td>0.040894</td>\n",
       "      <td>0.058229</td>\n",
       "      <td>0.065538</td>\n",
       "      <td>0.091314</td>\n",
       "    </tr>\n",
       "    <tr>\n",
       "      <th>1</th>\n",
       "      <td>5.847</td>\n",
       "      <td>0.032272</td>\n",
       "      <td>0.037262</td>\n",
       "      <td>0.052290</td>\n",
       "      <td>0.058829</td>\n",
       "      <td>0.082716</td>\n",
       "    </tr>\n",
       "    <tr>\n",
       "      <th>2</th>\n",
       "      <td>6.770</td>\n",
       "      <td>0.029805</td>\n",
       "      <td>0.035206</td>\n",
       "      <td>0.049496</td>\n",
       "      <td>0.054905</td>\n",
       "      <td>0.076584</td>\n",
       "    </tr>\n",
       "    <tr>\n",
       "      <th>3</th>\n",
       "      <td>7.828</td>\n",
       "      <td>0.027808</td>\n",
       "      <td>0.032498</td>\n",
       "      <td>0.045915</td>\n",
       "      <td>0.050873</td>\n",
       "      <td>0.071520</td>\n",
       "    </tr>\n",
       "    <tr>\n",
       "      <th>4</th>\n",
       "      <td>8.785</td>\n",
       "      <td>0.026677</td>\n",
       "      <td>0.030765</td>\n",
       "      <td>0.043124</td>\n",
       "      <td>0.048332</td>\n",
       "      <td>0.067429</td>\n",
       "    </tr>\n",
       "  </tbody>\n",
       "</table>\n",
       "</div>"
      ],
      "text/plain": [
       "   Voltage  Sin(Theta) One  Sin(Theta) Two  Sin(Theta) Three  Sin(Theta) Four  \\\n",
       "0    4.750        0.035448        0.040894          0.058229         0.065538   \n",
       "1    5.847        0.032272        0.037262          0.052290         0.058829   \n",
       "2    6.770        0.029805        0.035206          0.049496         0.054905   \n",
       "3    7.828        0.027808        0.032498          0.045915         0.050873   \n",
       "4    8.785        0.026677        0.030765          0.043124         0.048332   \n",
       "\n",
       "   Sin(Theta) Five  \n",
       "0         0.091314  \n",
       "1         0.082716  \n",
       "2         0.076584  \n",
       "3         0.071520  \n",
       "4         0.067429  "
      ]
     },
     "execution_count": 55,
     "metadata": {},
     "output_type": "execute_result"
    }
   ],
   "source": [
    "# SIN(THETA) data\n",
    "L = 18.06 * 10 #cm->mm\n",
    "sin_data = pd.DataFrame(data = {'Voltage': al_data['AnodeV (kV)'], \n",
    "                                'Sin(Theta) One':np.sin(.5 * np.arctan(al_data['R1']/L)),\n",
    "                                'Sin(Theta) Two':np.sin(.5 * np.arctan(al_data['R2']/L)),\n",
    "                                'Sin(Theta) Three':np.sin(.5 * np.arctan(al_data['R3']/L)),\n",
    "                                'Sin(Theta) Four':np.sin(.5 * np.arctan(al_data['R4']/L)),\n",
    "                                'Sin(Theta) Five':np.sin(.5 * np.arctan(al_data['R5']/L))})\n",
    "sin_data"
   ]
  },
  {
   "cell_type": "code",
   "execution_count": 56,
   "metadata": {},
   "outputs": [
    {
     "data": {
      "text/html": [
       "<div>\n",
       "<style scoped>\n",
       "    .dataframe tbody tr th:only-of-type {\n",
       "        vertical-align: middle;\n",
       "    }\n",
       "\n",
       "    .dataframe tbody tr th {\n",
       "        vertical-align: top;\n",
       "    }\n",
       "\n",
       "    .dataframe thead th {\n",
       "        text-align: right;\n",
       "    }\n",
       "</style>\n",
       "<table border=\"1\" class=\"dataframe\">\n",
       "  <thead>\n",
       "    <tr style=\"text-align: right;\">\n",
       "      <th></th>\n",
       "      <th>Voltage kV</th>\n",
       "      <th>Wavelength NM</th>\n",
       "    </tr>\n",
       "  </thead>\n",
       "  <tbody>\n",
       "    <tr>\n",
       "      <th>0</th>\n",
       "      <td>4.750</td>\n",
       "      <td>0.177971</td>\n",
       "    </tr>\n",
       "    <tr>\n",
       "      <th>1</th>\n",
       "      <td>5.847</td>\n",
       "      <td>0.160409</td>\n",
       "    </tr>\n",
       "    <tr>\n",
       "      <th>2</th>\n",
       "      <td>6.770</td>\n",
       "      <td>0.149074</td>\n",
       "    </tr>\n",
       "    <tr>\n",
       "      <th>3</th>\n",
       "      <td>7.828</td>\n",
       "      <td>0.138634</td>\n",
       "    </tr>\n",
       "    <tr>\n",
       "      <th>4</th>\n",
       "      <td>8.785</td>\n",
       "      <td>0.130866</td>\n",
       "    </tr>\n",
       "  </tbody>\n",
       "</table>\n",
       "</div>"
      ],
      "text/plain": [
       "   Voltage kV  Wavelength NM\n",
       "0       4.750       0.177971\n",
       "1       5.847       0.160409\n",
       "2       6.770       0.149074\n",
       "3       7.828       0.138634\n",
       "4       8.785       0.130866"
      ]
     },
     "execution_count": 56,
     "metadata": {},
     "output_type": "execute_result"
    }
   ],
   "source": [
    "# PREDICTED VALUE \n",
    "# can be simp to Lambda (nm) = sqrt(150/V) * 1000\n",
    "#mind kV to V\n",
    "mc_2 = .511  # (keV)\n",
    "hc = 1.240           # (eV*nm)\n",
    "e = 1.602 * 10 **-19      # (C)\n",
    "\n",
    "wavelengths_Predicted =  pd.DataFrame(data = {'Voltage kV': al_data['AnodeV (kV)'],'Wavelength NM': 10 * hc/(np.sqrt(2*mc_2*(al_data['AnodeV (kV)']*1000)))})\n",
    "wavelengths_Predicted"
   ]
  },
  {
   "cell_type": "markdown",
   "metadata": {},
   "source": [
    "### Part 3 - Calculate Ring Spacing for Different Structures\n",
    "\n",
    "The ring spacings (and $\\sin\\theta$) should be proportional to $\\sqrt{h^2+k^2+l^2}$ for the appropriate collection of $h,k,l$ integers.  For the cubic structures there are three possibilities: simple cubic, which allows all values of $h,k,l$, body-centered cubic which requires the sum $h+k+l$ to be even, and face-centered cubic which requires $h,k,l$ to be all even or all odd (another way to say this is that the sum of any two is even).\n",
    "\n",
    "Either work out the possibilities for the first 6 rings for the three different possible structures by hand, or write some code to do this.  Then create arrays `x_sc`, `x_bcc`, and `x_fcc` which will allow you to plot the ring diameters versus each array.  From this, determine which one gives the best straight line.\n",
    "\n",
    "**NOTE** For ring 5 (usually the outermost), you will find that it does not match the 5th allowed reflection.  Try a higher one in the series. (Which works best?)"
   ]
  },
  {
   "cell_type": "code",
   "execution_count": 57,
   "metadata": {},
   "outputs": [],
   "source": [
    "sc =  [np.sqrt(1), np.sqrt(2),np.sqrt(3),np.sqrt(4),  np.sqrt(9) ]\n",
    "bcc = [np.sqrt(2), np.sqrt(4),np.sqrt(6),np.sqrt(8),  np.sqrt(16)]\n",
    "fcc = [np.sqrt(3), np.sqrt(4),np.sqrt(8),np.sqrt(11), np.sqrt(19)]\n"
   ]
  },
  {
   "cell_type": "markdown",
   "metadata": {},
   "source": [
    "### Now plot data against $hkl$\n",
    "\n",
    "Make a plot with one of the ring-diameter sets versus the spacings for the three different x-value sets.  Find the match that looks most linear."
   ]
  },
  {
   "cell_type": "code",
   "execution_count": 58,
   "metadata": {},
   "outputs": [
    {
     "data": {
      "image/png": "[encoded data removed]",
      "text/plain": [
       "<Figure size 648x468 with 1 Axes>"
      ]
     },
     "metadata": {
      "needs_background": "light"
     },
     "output_type": "display_data"
    }
   ],
   "source": [
    "plt.figure(figsize=(9,6.5)) \n",
    "plt.grid()\n",
    "\n",
    "#new arrays for intermediate testing\n",
    "sins1 = [0.027808, 0.032498, 0.045915, 0.050873, 0.071520]\n",
    "sins2 = [0.032272, 0.037262, 0.052290, 0.058829, 0.082716]\n",
    "\n",
    "plt.title('Aluminum Electron Diffraction Data')\n",
    "plt.ylabel(r'Ind')\n",
    "plt.xlabel(r'Sin(Theta)')\n",
    "plt.plot(sins2,sc ,'ob',label='SC')\n",
    "plt.plot(sins2,bcc,'or',label='BCC')\n",
    "plt.plot(sins2,fcc,'og',label='FCC')\n",
    "plt.legend();\n"
   ]
  },
  {
   "cell_type": "markdown",
   "metadata": {},
   "source": [
    "### Part 4 - Fit to the best structure\n",
    "\n",
    "Fit a line to the $hkl$ group that has the closest match to the ring spacing.  The slope should give you $\\frac{\\lambda}{2a}$ for that voltage.  As a quick check, calculate the lattice constant; it should be about 4 aangstrom."
   ]
  },
  {
   "cell_type": "code",
   "execution_count": 59,
   "metadata": {},
   "outputs": [
    {
     "name": "stdout",
     "output_type": "stream",
     "text": [
      "\n",
      "Slope =  52.7617140416583 +/- 2.461202785134366\n",
      "a =  4.231736237646669\n"
     ]
    },
    {
     "data": {
      "image/png": "[encoded data removed]",
      "text/plain": [
       "<Figure size 648x468 with 1 Axes>"
      ]
     },
     "metadata": {
      "needs_background": "light"
     },
     "output_type": "display_data"
    }
   ],
   "source": [
    "from lmfit.models import LinearModel\n",
    "line = LinearModel()\n",
    "param_guess = line.guess(fcc, x = sins2)\n",
    "line_fit = line.fit(fcc, param_guess, x = sins2)\n",
    "#print(line_fit1.fit_report())\n",
    "\n",
    "print('\\nSlope = ',line_fit.params['slope'].value,'+/-',line_fit.params['slope'].stderr)\n",
    "fit_x_values = np.linspace(0,np.max(sins2),20)\n",
    "line_fit = line_fit.eval(line_fit.params,x = fit_x_values)\n",
    "\n",
    "plt.figure(figsize=(9,6.5))\n",
    "plt.grid()\n",
    "plt.title('Wavelength vs. 1/sqrt(V)')\n",
    "plt.ylabel(r'Wavelength')\n",
    "plt.xlabel(r'1/sqrt(V)')\n",
    "plt.plot(fit_x_values, line_fit,'-b',label='{10} wavelength')\n",
    "plt.legend();\n",
    "a_7828 = .5 * wavelengths_Predicted.loc[1,'Wavelength NM'] * 52.7617140416583\n",
    "print('a = ', a_7828)"
   ]
  },
  {
   "cell_type": "markdown",
   "metadata": {},
   "source": [
    "### Part 5 - Repeat the process for the other voltages\n",
    "\n",
    "Fit the $\\sin\\theta$ versus $hkl$ lengths for the other data sets in the aluminum measurements.  Obtain the slopes (all proportional to $\\lambda/2a$ for each voltage).  Then combine these results to plot $\\lambda/2a$ versus $\\lambda(V)$.  The slope of this line should give you the best value of the aluminum lattice constant $a$.\n",
    "\n",
    "You do not need to plot the intermediate fits (but examine the statistics to make sure you have not made a mistake).  Do plot the final fit.\n",
    "\n",
    "OPTIONAL: Calculate the uncertainty in $a$ from the final plot/fit result."
   ]
  },
  {
   "cell_type": "markdown",
   "metadata": {},
   "source": [
    "### Fits here for $\\lambda/2a$ values for each voltage\n"
   ]
  },
  {
   "cell_type": "code",
   "execution_count": 60,
   "metadata": {},
   "outputs": [
    {
     "name": "stdout",
     "output_type": "stream",
     "text": [
      "\n",
      "Slope =  47.54055291018409 +/- 1.863518833111981\n",
      "\n",
      "Slope =  52.7617140416583 +/- 2.461202785134366\n",
      "\n",
      "Slope =  57.255065317257774 +/- 2.5755000810431397\n",
      "\n",
      "Slope =  61.1110461807865 +/- 2.949189427477692\n",
      "\n",
      "Slope =  65.31958046531886 +/- 2.8658623567615242\n"
     ]
    }
   ],
   "source": [
    "line = LinearModel()\n",
    "\n",
    "wl_List = wavelengths_Predicted.values.tolist()\n",
    "sins = [[0.035448, 0.040894, 0.058229, 0.065538, 0.091314],\n",
    "        [0.032272, 0.037262, 0.052290, 0.058829, 0.082716],\n",
    "        [0.029805, 0.035206, 0.049496, 0.054905, 0.076584],\n",
    "        [0.027808, 0.032498, 0.045915, 0.050873, 0.071520],\n",
    "        [0.026677, 0.030765, 0.043124, 0.048332, 0.067429]]\n",
    "\n",
    "param_guess1 = line.guess(fcc, x = sins[0])\n",
    "line_fit1 = line.fit(fcc, param_guess1, x = sins[0])\n",
    "param_guess2 = line.guess(fcc, x = sins[1])\n",
    "line_fit2 = line.fit(fcc, param_guess2, x = sins[1])\n",
    "param_guess3 = line.guess(fcc, x = sins[2])\n",
    "line_fit3 = line.fit(fcc, param_guess3, x = sins[2])\n",
    "param_guess4 = line.guess(fcc, x = sins[3])\n",
    "line_fit4 = line.fit(fcc, param_guess4, x = sins[3])\n",
    "param_guess5 = line.guess(fcc, x = sins[4])\n",
    "line_fit5 = line.fit(fcc, param_guess5, x = sins[4])\n",
    "\n",
    "\n",
    "print('\\nSlope = ',line_fit1.params['slope'].value,'+/-',line_fit1.params['slope'].stderr)\n",
    "print('\\nSlope = ',line_fit2.params['slope'].value,'+/-',line_fit2.params['slope'].stderr)\n",
    "print('\\nSlope = ',line_fit3.params['slope'].value,'+/-',line_fit3.params['slope'].stderr)\n",
    "print('\\nSlope = ',line_fit4.params['slope'].value,'+/-',line_fit4.params['slope'].stderr)\n",
    "print('\\nSlope = ',line_fit5.params['slope'].value,'+/-',line_fit5.params['slope'].stderr)"
   ]
  },
  {
   "cell_type": "markdown",
   "metadata": {},
   "source": [
    "### Plot and fit here for final $\\lambda/2a$ vs $\\lambda(V)$"
   ]
  },
  {
   "cell_type": "code",
   "execution_count": 91,
   "metadata": {},
   "outputs": [
    {
     "name": "stdout",
     "output_type": "stream",
     "text": [
      "\n",
      "Slope =  0.11440714205997335 +/- 0.0020982559817610074\n"
     ]
    },
    {
     "data": {
      "image/png": "[encoded data removed]",
      "text/plain": [
       "<Figure size 648x468 with 1 Axes>"
      ]
     },
     "metadata": {
      "needs_background": "light"
     },
     "output_type": "display_data"
    }
   ],
   "source": [
    "slopes = [47.54055291018409, 52.7617140416583, 57.255065317257774, 61.1110461807865, 65.31958046531886]\n",
    "param_guess = line.guess(1/wavelengths_Predicted['Wavelength NM'], x = slopes)\n",
    "line_fit = line.fit(1/wavelengths_Predicted['Wavelength NM'], param_guess, x = slopes)\n",
    "\n",
    "plt.figure(figsize=(9,6.5)) \n",
    "plt.grid()\n",
    "plt.title('Aluminum Electron Diffraction Data')\n",
    "plt.ylabel(r'Lambda/2a')\n",
    "plt.xlabel(r'1/Lambda(V)')\n",
    "plt.plot(1/wavelengths_Predicted['Wavelength NM'],slopes,'og',label='FCC')\n",
    "plt.legend();\n",
    "\n",
    "print('\\nSlope = ',line_fit.params['slope'].value,'+/-',line_fit.params['slope'].stderr)"
   ]
  },
  {
   "cell_type": "markdown",
   "metadata": {},
   "source": [
    "### Calculate and print Al lattice constant (maybe with uncertainty)."
   ]
  },
  {
   "cell_type": "code",
   "execution_count": 87,
   "metadata": {},
   "outputs": [
    {
     "data": {
      "text/plain": [
       "4.370356526674664"
      ]
     },
     "execution_count": 87,
     "metadata": {},
     "output_type": "execute_result"
    }
   ],
   "source": [
    "a = 1/(2*(0.11440714205997335))\n",
    "a"
   ]
  },
  {
   "cell_type": "code",
   "execution_count": 88,
   "metadata": {},
   "outputs": [
    {
     "data": {
      "text/html": [
       "<div>\n",
       "<style scoped>\n",
       "    .dataframe tbody tr th:only-of-type {\n",
       "        vertical-align: middle;\n",
       "    }\n",
       "\n",
       "    .dataframe tbody tr th {\n",
       "        vertical-align: top;\n",
       "    }\n",
       "\n",
       "    .dataframe thead th {\n",
       "        text-align: right;\n",
       "    }\n",
       "</style>\n",
       "<table border=\"1\" class=\"dataframe\">\n",
       "  <thead>\n",
       "    <tr style=\"text-align: right;\">\n",
       "      <th></th>\n",
       "      <th>Voltage kV</th>\n",
       "      <th>Slope</th>\n",
       "      <th>lattice constant</th>\n",
       "    </tr>\n",
       "  </thead>\n",
       "  <tbody>\n",
       "    <tr>\n",
       "      <th>0</th>\n",
       "      <td>4.750</td>\n",
       "      <td>47.540553</td>\n",
       "      <td>4.230422</td>\n",
       "    </tr>\n",
       "    <tr>\n",
       "      <th>1</th>\n",
       "      <td>5.847</td>\n",
       "      <td>52.761714</td>\n",
       "      <td>4.231736</td>\n",
       "    </tr>\n",
       "    <tr>\n",
       "      <th>2</th>\n",
       "      <td>6.770</td>\n",
       "      <td>57.255065</td>\n",
       "      <td>4.267621</td>\n",
       "    </tr>\n",
       "    <tr>\n",
       "      <th>3</th>\n",
       "      <td>7.828</td>\n",
       "      <td>61.111046</td>\n",
       "      <td>4.236045</td>\n",
       "    </tr>\n",
       "    <tr>\n",
       "      <th>4</th>\n",
       "      <td>8.785</td>\n",
       "      <td>65.319580</td>\n",
       "      <td>4.274042</td>\n",
       "    </tr>\n",
       "  </tbody>\n",
       "</table>\n",
       "</div>"
      ],
      "text/plain": [
       "   Voltage kV      Slope  lattice constant\n",
       "0       4.750  47.540553          4.230422\n",
       "1       5.847  52.761714          4.231736\n",
       "2       6.770  57.255065          4.267621\n",
       "3       7.828  61.111046          4.236045\n",
       "4       8.785  65.319580          4.274042"
      ]
     },
     "execution_count": 88,
     "metadata": {},
     "output_type": "execute_result"
    }
   ],
   "source": [
    "# unweighted average for comparison \n",
    "al_lattice = pd.DataFrame(data= {'Voltage kV':al_data['AnodeV (kV)'],'Slope':slopes ,'lattice constant': .5 * wavelengths_Predicted['Wavelength NM']* slopes})\n",
    "al_lattice"
   ]
  }
 ],
 "metadata": {
  "kernelspec": {
   "display_name": "Python 3",
   "language": "python",
   "name": "python3"
  },
  "language_info": {
   "codemirror_mode": {
    "name": "ipython",
    "version": 3
   },
   "file_extension": ".py",
   "mimetype": "text/x-python",
   "name": "python",
   "nbconvert_exporter": "python",
   "pygments_lexer": "ipython3",
   "version": "3.7.4"
  }
 },
 "nbformat": 4,
 "nbformat_minor": 4
}
